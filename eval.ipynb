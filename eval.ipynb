{
  "nbformat": 4,
  "nbformat_minor": 0,
  "metadata": {
    "colab": {
      "name": "eval.ipynb",
      "provenance": [],
      "collapsed_sections": [],
      "mount_file_id": "1oiHpXNn6NN1KieBWS7bUQwKA8F1pUpNz",
      "authorship_tag": "ABX9TyP/HURrb5NKGB5drpRIMLj9",
      "include_colab_link": true
    },
    "kernelspec": {
      "name": "python3",
      "display_name": "Python 3"
    },
    "language_info": {
      "name": "python"
    },
    "accelerator": "GPU"
  },
  "cells": [
    {
      "cell_type": "markdown",
      "metadata": {
        "id": "view-in-github",
        "colab_type": "text"
      },
      "source": [
        "<a href=\"https://colab.research.google.com/github/dongweicong/ilm/blob/main/eval.ipynb\" target=\"_parent\"><img src=\"https://colab.research.google.com/assets/colab-badge.svg\" alt=\"Open In Colab\"/></a>"
      ]
    },
    {
      "cell_type": "code",
      "metadata": {
        "colab": {
          "base_uri": "https://localhost:8080/"
        },
        "id": "GT3MnvXo_Rzv",
        "outputId": "cbb6a96d-7ceb-4bc6-befe-de280d24358c"
      },
      "source": [
        "! git clone https://github.com/dongweicong/ilm.git"
      ],
      "execution_count": null,
      "outputs": [
        {
          "output_type": "stream",
          "text": [
            "Cloning into 'ilm'...\n",
            "remote: Enumerating objects: 187, done.\u001b[K\n",
            "remote: Counting objects: 100% (187/187), done.\u001b[K\n",
            "remote: Compressing objects: 100% (94/94), done.\u001b[K\n",
            "remote: Total 187 (delta 97), reused 181 (delta 91), pack-reused 0\u001b[K\n",
            "Receiving objects: 100% (187/187), 606.95 KiB | 3.75 MiB/s, done.\n",
            "Resolving deltas: 100% (97/97), done.\n"
          ],
          "name": "stdout"
        }
      ]
    },
    {
      "cell_type": "code",
      "metadata": {
        "id": "z1D-vlyI_iom"
      },
      "source": [
        "%cd ilm\n",
        "! pip install -r requirements.txt\n",
        "! python -c \"import nltk; nltk.download('punkt')\"\n",
        "! pip install -e ."
      ],
      "execution_count": null,
      "outputs": []
    },
    {
      "cell_type": "code",
      "metadata": {
        "colab": {
          "base_uri": "https://localhost:8080/"
        },
        "id": "_Wu4ZyUfligu",
        "outputId": "7366bf85-becd-4253-ba1d-f471509004c2"
      },
      "source": [
        "! ./create_examples.sh"
      ],
      "execution_count": null,
      "outputs": [
        {
          "output_type": "stream",
          "text": [
            "302 Moved Temporarily\n",
            "Location: https://doc-0k-98-docs.googleusercontent.com/docs/securesc/j54iga0982faa992h5vv1emalea72048/n9s24vuljrca4tvia2hhbj3oka7q2tr8/1619206875000/00801004230948063963/10008716423460186544Z/15GLH9Kg-U0QANhEOwvgmsXycAO6OPFA7?e=download [following]\n",
            "--2021-04-23 19:42:17--  https://doc-0k-98-docs.googleusercontent.com/docs/securesc/j54iga0982faa992h5vv1emalea72048/n9s24vuljrca4tvia2hhbj3oka7q2tr8/1619206875000/00801004230948063963/10008716423460186544Z/15GLH9Kg-U0QANhEOwvgmsXycAO6OPFA7?e=download\n",
            "Resolving doc-0k-98-docs.googleusercontent.com (doc-0k-98-docs.googleusercontent.com)... 173.194.69.132, 2a00:1450:4013:c04::84\n",
            "Connecting to doc-0k-98-docs.googleusercontent.com (doc-0k-98-docs.googleusercontent.com)|173.194.69.132|:443... connected.\n",
            "HTTP request sent, awaiting response... 302 Found\n",
            "Location: https://docs.google.com/nonceSigner?nonce=sk0qkf30tbofa&continue=https://doc-0k-98-docs.googleusercontent.com/docs/securesc/j54iga0982faa992h5vv1emalea72048/n9s24vuljrca4tvia2hhbj3oka7q2tr8/1619206875000/00801004230948063963/10008716423460186544Z/15GLH9Kg-U0QANhEOwvgmsXycAO6OPFA7?e%3Ddownload&hash=83ths8sdtah1o8u6oo6vvfb1k119le2p [following]\n",
            "--2021-04-23 19:42:17--  https://docs.google.com/nonceSigner?nonce=sk0qkf30tbofa&continue=https://doc-0k-98-docs.googleusercontent.com/docs/securesc/j54iga0982faa992h5vv1emalea72048/n9s24vuljrca4tvia2hhbj3oka7q2tr8/1619206875000/00801004230948063963/10008716423460186544Z/15GLH9Kg-U0QANhEOwvgmsXycAO6OPFA7?e%3Ddownload&hash=83ths8sdtah1o8u6oo6vvfb1k119le2p\n",
            "Connecting to docs.google.com (docs.google.com)|108.177.119.102|:443... connected.\n",
            "HTTP request sent, awaiting response... 302 Found\n",
            "Location: https://doc-0k-98-docs.googleusercontent.com/docs/securesc/j54iga0982faa992h5vv1emalea72048/n9s24vuljrca4tvia2hhbj3oka7q2tr8/1619206875000/00801004230948063963/10008716423460186544Z/15GLH9Kg-U0QANhEOwvgmsXycAO6OPFA7?e=download&nonce=sk0qkf30tbofa&user=10008716423460186544Z&hash=0l1tm6ocvqpc42n5kgn2s591siufaonh [following]\n",
            "--2021-04-23 19:42:17--  https://doc-0k-98-docs.googleusercontent.com/docs/securesc/j54iga0982faa992h5vv1emalea72048/n9s24vuljrca4tvia2hhbj3oka7q2tr8/1619206875000/00801004230948063963/10008716423460186544Z/15GLH9Kg-U0QANhEOwvgmsXycAO6OPFA7?e=download&nonce=sk0qkf30tbofa&user=10008716423460186544Z&hash=0l1tm6ocvqpc42n5kgn2s591siufaonh\n",
            "Connecting to doc-0k-98-docs.googleusercontent.com (doc-0k-98-docs.googleusercontent.com)|173.194.69.132|:443... connected.\n",
            "HTTP request sent, awaiting response... 200 OK\n",
            "Length: unspecified [application/x-gzip]\n",
            "Saving to: ‘roc_stories_split.tar.gz’\n",
            "\n",
            "roc_stories_split.t     [ <=>                ]   8.95M  --.-KB/s    in 0.03s   \n",
            "\n",
            "2021-04-23 19:42:18 (264 MB/s) - ‘roc_stories_split.tar.gz’ saved [9383046]\n",
            "\n",
            "train_title.txt\n",
            "test.txt\n",
            "valid.txt\n",
            "test_hand_title.txt\n",
            "e276c999c72d69911e8fc4e376ad81456c04ff769272225919c094a4241d5fd8  test_hand_title.txt\n",
            "6455f283ff08f7ffbd4daabc996b9c7d274bd746b0793f321dcb60a0f2457d3f  test.txt\n",
            "a4cb738a5b0f15686196df41dfd50a99bd4a01f7ed89473a10f52a93a5b481c7  train_title.txt\n",
            "c03956fcee861a25cfd9ca14c4bc79290e7e2748a8f38cfa717b9fcc0e85e7ae  valid.txt\n",
            "If you use this dataset, please cite https://arxiv.org/pdf/1604.01696.pdf (Mostafazadeh et al. 2016)\n",
            "/content/ilm/data /content/ilm\n",
            "/content/ilm\n",
            "100% 97828/97828 [02:21<00:00, 692.61it/s]\n",
            "Processed 97828 documents and created 16.0 examples per document (expected 16)\n",
            "Errors which caused retries:\n",
            "* (241647 retries) Issue with example: Mask is not unique\n",
            "Mask rate (characters): 0.1413\n",
            "100% 1866/1866 [00:02<00:00, 732.28it/s]\n",
            "Processed 1866 documents and created 16.0 examples per document (expected 16)\n",
            "Errors which caused retries:\n",
            "* (4628 retries) Issue with example: Mask is not unique\n",
            "Mask rate (characters): 0.1410\n"
          ],
          "name": "stdout"
        }
      ]
    },
    {
      "cell_type": "code",
      "metadata": {
        "id": "9F4hoa1LQXP0"
      },
      "source": [
        "! cp  ./data/char_masks/roc_stories/* ../drive/Shareddrives/cos484/masked_examples/roc_stories"
      ],
      "execution_count": null,
      "outputs": []
    },
    {
      "cell_type": "code",
      "metadata": {
        "id": "s-rRGHGZD7tn"
      },
      "source": [
        "#copy masked data\n",
        "! cp ../drive/Shareddrives/cos484/masked_examples/yelp_reviews/* ./data/char_masks/yelp_reviews"
      ],
      "execution_count": null,
      "outputs": []
    },
    {
      "cell_type": "code",
      "metadata": {
        "id": "gb_5mGkWTmGe",
        "colab": {
          "base_uri": "https://localhost:8080/"
        },
        "outputId": "11e40ba8-99d6-4825-9545-17bea8d93b3a"
      },
      "source": [
        "#copy model\n",
        "! DATASET = story\n",
        "! cp ../drive/Shareddrives/cos484/train_${DATASET}_ilm_adroit_20/config.json ./train_yelp_ilm_adroit_20\n",
        "! cp ../drive/Shareddrives/cos484/train_yelp_ilm_adroit_20/pytorch_model.bin ./train_yelp_ilm_adroit_20\n",
        "! cp ../drive/Shareddrives/cos484/train_yelp_ilm_adroit_20/step.pkl ./train_yelp_ilm_adroit_20\n",
        "\n"
      ],
      "execution_count": null,
      "outputs": [
        {
          "output_type": "stream",
          "text": [
            "/bin/bash: DATASET: command not found\n",
            "cp: cannot stat '../drive/Shareddrives/cos484/train__ilm_adroit_20/config.json': No such file or directory\n"
          ],
          "name": "stdout"
        }
      ]
    },
    {
      "cell_type": "code",
      "metadata": {
        "id": "kVHy1s2UXoVb"
      },
      "source": [
        "!pip install wandb\n",
        "!wandb login 7c90229510d4a7f68d13266dd857bc3820be8e3f"
      ],
      "execution_count": null,
      "outputs": []
    },
    {
      "cell_type": "code",
      "metadata": {
        "colab": {
          "base_uri": "https://localhost:8080/"
        },
        "id": "HMZ-lBvcNU3i",
        "outputId": "2afc39d5-9910-491d-b99e-cf84fa958c92"
      },
      "source": [
        "#adroit 20\n",
        "!./eval_yelp_ilm.sh"
      ],
      "execution_count": null,
      "outputs": [
        {
          "output_type": "stream",
          "text": [
            "2021-04-23 19:29:50.194149: I tensorflow/stream_executor/platform/default/dso_loader.cc:49] Successfully opened dynamic library libcudart.so.11.0\n",
            "Random seed 792899\n",
            "{50257: '<|startofinfill|>', 50258: '<|endofinfill|>', 50259: '<|infill_document|>', 50260: '<|infill_paragraph|>', 50261: '<|infill_sentence|>', 50262: '<|infill_ngram|>', 50263: '<|infill_word|>'}\n",
            "Loading eval data\n",
            "100% 2986/2986 [00:04<00:00, 604.13it/s]\n",
            "{<TargetType.PAD: 0>: 9905259, <TargetType.CONTEXT: 1>: 1721308, <TargetType.CONTEXT_SPECIAL: 2>: 63359, <TargetType.CONTEXT_INFILL_SEP: 3>: 47494, <TargetType.INFILL: 4>: 357685, <TargetType.INFILL_SPECIAL: 5>: 63359}\n",
            "Mask rate (tokens): 0.1720\n",
            "2986 documents, 47494 examples\n",
            "(47494, 256) uint16 (47494, 256) uint8\n",
            "Creating datasets\n",
            "Initializing model...\n",
            "from saved checkpoint (resuming)\n",
            "Evaluating\n",
            "--------------------------------------------------------------------------------\n",
            "(Step 48523) Eval\n",
            "eval_context_count: 1681658\n",
            "eval_context_loss: 3.7185044994728864\n",
            "eval_context_ppl: 41.20272930683501\n",
            "eval_infill_count: 421027\n",
            "eval_infill_loss: 3.294792918862813\n",
            "eval_infill_ppl: 26.971828134706726\n",
            "eval_infill_textonly_count: 357671\n",
            "eval_infill_textonly_loss: 3.837850493901512\n",
            "eval_infill_textonly_ppl: 46.42557505437932\n",
            "eval_time: 396.0253348350525\n"
          ],
          "name": "stdout"
        }
      ]
    },
    {
      "cell_type": "code",
      "metadata": {
        "colab": {
          "base_uri": "https://localhost:8080/"
        },
        "id": "kRUNstz9H5-9",
        "outputId": "53a0e574-14c4-41b9-eb90-ca5d145768a4"
      },
      "source": [
        "!./eval_yelp_ilm.sh"
      ],
      "execution_count": null,
      "outputs": [
        {
          "output_type": "stream",
          "text": [
            "2021-04-23 19:05:45.782531: I tensorflow/stream_executor/platform/default/dso_loader.cc:49] Successfully opened dynamic library libcudart.so.11.0\n",
            "Random seed 426940\n",
            "{50257: '<|startofinfill|>', 50258: '<|endofinfill|>', 50259: '<|infill_document|>', 50260: '<|infill_paragraph|>', 50261: '<|infill_sentence|>', 50262: '<|infill_ngram|>', 50263: '<|infill_word|>'}\n",
            "Loading eval data\n",
            "100% 2986/2986 [00:04<00:00, 607.11it/s]\n",
            "{<TargetType.PAD: 0>: 9905259, <TargetType.CONTEXT: 1>: 1721308, <TargetType.CONTEXT_SPECIAL: 2>: 63359, <TargetType.CONTEXT_INFILL_SEP: 3>: 47494, <TargetType.INFILL: 4>: 357685, <TargetType.INFILL_SPECIAL: 5>: 63359}\n",
            "Mask rate (tokens): 0.1720\n",
            "2986 documents, 47494 examples\n",
            "(47494, 256) uint16 (47494, 256) uint8\n",
            "Creating datasets\n",
            "Initializing model...\n",
            "from saved checkpoint (resuming)\n",
            "Evaluating\n",
            "--------------------------------------------------------------------------------\n",
            "(Step 48523) Eval\n",
            "eval_context_count: 1681658\n",
            "eval_context_loss: 3.7185044994728864\n",
            "eval_context_ppl: 41.20272930683501\n",
            "eval_infill_count: 421027\n",
            "eval_infill_loss: 3.294792918862813\n",
            "eval_infill_ppl: 26.971828134706726\n",
            "eval_infill_textonly_count: 357671\n",
            "eval_infill_textonly_loss: 3.837850493901512\n",
            "eval_infill_textonly_ppl: 46.42557505437932\n",
            "eval_time: 396.39797043800354\n"
          ],
          "name": "stdout"
        }
      ]
    },
    {
      "cell_type": "code",
      "metadata": {
        "id": "i0TGNzj-WeyF",
        "colab": {
          "base_uri": "https://localhost:8080/"
        },
        "outputId": "4ef786df-19ea-44e8-eba3-a43b4867099a"
      },
      "source": [
        "!chmod +x eval_yelp_ilm.sh\n",
        "!./eval_yelp_ilm.sh"
      ],
      "execution_count": null,
      "outputs": [
        {
          "output_type": "stream",
          "text": [
            "2021-04-23 18:54:43.113532: I tensorflow/stream_executor/platform/default/dso_loader.cc:49] Successfully opened dynamic library libcudart.so.11.0\n",
            "Random seed 922617\n",
            "{50257: '<|startofinfill|>', 50258: '<|endofinfill|>', 50259: '<|infill_document|>', 50260: '<|infill_paragraph|>', 50261: '<|infill_sentence|>', 50262: '<|infill_ngram|>', 50263: '<|infill_word|>'}\n",
            "Loading eval data\n",
            "100% 2986/2986 [00:04<00:00, 598.37it/s]\n",
            "{<TargetType.PAD: 0>: 9905259, <TargetType.CONTEXT: 1>: 1721308, <TargetType.CONTEXT_SPECIAL: 2>: 63359, <TargetType.CONTEXT_INFILL_SEP: 3>: 47494, <TargetType.INFILL: 4>: 357685, <TargetType.INFILL_SPECIAL: 5>: 63359}\n",
            "Mask rate (tokens): 0.1720\n",
            "2986 documents, 47494 examples\n",
            "(47494, 256) uint16 (47494, 256) uint8\n",
            "Creating datasets\n",
            "Initializing model...\n",
            "from saved checkpoint (resuming)\n",
            "Evaluating\n",
            "--------------------------------------------------------------------------------\n",
            "(Step 50831) Eval\n",
            "eval_context_count: 1681658\n",
            "eval_context_loss: 3.7194719041287967\n",
            "eval_context_ppl: 41.24260830545699\n",
            "eval_infill_count: 421027\n",
            "eval_infill_loss: 3.2934218160916298\n",
            "eval_infill_ppl: 26.934872327301825\n",
            "eval_infill_textonly_count: 357671\n",
            "eval_infill_textonly_loss: 3.844967043631537\n",
            "eval_infill_textonly_ppl: 46.757143379874414\n",
            "eval_time: 396.4654474258423\n"
          ],
          "name": "stdout"
        }
      ]
    },
    {
      "cell_type": "code",
      "metadata": {
        "colab": {
          "base_uri": "https://localhost:8080/"
        },
        "id": "gagDngRrnHtE",
        "outputId": "335c45b4-5d12-4c72-9296-7c5083083c20"
      },
      "source": [
        ""
      ],
      "execution_count": null,
      "outputs": [
        {
          "output_type": "stream",
          "text": [
            "2021-04-23 02:44:39.337323: I tensorflow/stream_executor/platform/default/dso_loader.cc:49] Successfully opened dynamic library libcudart.so.11.0\n",
            "Random seed 229167\n",
            "{50257: '<|startofinfill|>', 50258: '<|endofinfill|>', 50259: '<|infill_document|>', 50260: '<|infill_paragraph|>', 50261: '<|infill_sentence|>', 50262: '<|infill_ngram|>', 50263: '<|infill_word|>'}\n",
            "Loading eval data\n",
            "100% 1867/1867 [00:04<00:00, 380.32it/s]\n",
            "{<TargetType.PAD: 0>: 5908204, <TargetType.CONTEXT: 1>: 1363667, <TargetType.CONTEXT_SPECIAL: 2>: 54598, <TargetType.CONTEXT_INFILL_SEP: 3>: 29864, <TargetType.INFILL: 4>: 234253, <TargetType.INFILL_SPECIAL: 5>: 54598}\n",
            "Mask rate (tokens): 0.1466\n",
            "1867 documents, 29864 examples\n",
            "(29864, 256) uint16 (29864, 256) uint8\n",
            "Creating datasets\n",
            "Initializing model...\n",
            "from saved checkpoint (resuming)\n",
            "Evaluating\n",
            "--------------------------------------------------------------------------------\n",
            "(Step 27171) Eval\n",
            "eval_context_count: 1337511\n",
            "eval_context_loss: 2.8799267351370705\n",
            "eval_context_ppl: 17.812968067139533\n",
            "eval_infill_count: 288851\n",
            "eval_infill_loss: 2.220182160924964\n",
            "eval_infill_ppl: 9.209008234560105\n",
            "eval_infill_textonly_count: 234253\n",
            "eval_infill_textonly_loss: 2.7059490472549177\n",
            "eval_infill_textonly_ppl: 14.968515780468282\n",
            "eval_time: 252.7499635219574\n"
          ],
          "name": "stdout"
        }
      ]
    },
    {
      "cell_type": "code",
      "metadata": {
        "id": "wdYYAlh0qyIQ"
      },
      "source": [
        "rm -rf train_yelp_ilm/"
      ],
      "execution_count": null,
      "outputs": []
    },
    {
      "cell_type": "code",
      "metadata": {
        "colab": {
          "base_uri": "https://localhost:8080/"
        },
        "id": "_lDarJZ_Yaf2",
        "outputId": "c4d84ad2-0ced-439d-ec86-7f506d0ad792"
      },
      "source": [
        "\n",
        "!./train_abstract_ilm.sh"
      ],
      "execution_count": null,
      "outputs": [
        {
          "output_type": "stream",
          "text": [
            "2021-04-22 04:21:11.237165: I tensorflow/stream_executor/platform/default/dso_loader.cc:49] Successfully opened dynamic library libcudart.so.11.0\n",
            "\u001b[34m\u001b[1mwandb\u001b[0m: Currently logged in as: \u001b[33mweicongdong\u001b[0m (use `wandb login --relogin` to force relogin)\n",
            "2021-04-22 04:21:14.808772: I tensorflow/stream_executor/platform/default/dso_loader.cc:49] Successfully opened dynamic library libcudart.so.11.0\n",
            "\u001b[34m\u001b[1mwandb\u001b[0m: Tracking run with wandb version 0.10.27\n",
            "\u001b[34m\u001b[1mwandb\u001b[0m: Syncing run \u001b[33mexperiment_arxiv_cs_abstracts\u001b[0m\n",
            "\u001b[34m\u001b[1mwandb\u001b[0m: ⭐️ View project at \u001b[34m\u001b[4mhttps://wandb.ai/weicongdong/abstract_ilm\u001b[0m\n",
            "\u001b[34m\u001b[1mwandb\u001b[0m: 🚀 View run at \u001b[34m\u001b[4mhttps://wandb.ai/weicongdong/abstract_ilm/runs/1n8ncho5\u001b[0m\n",
            "\u001b[34m\u001b[1mwandb\u001b[0m: Run data is saved locally in /content/ilm/wandb/run-20210422_042113-1n8ncho5\n",
            "\u001b[34m\u001b[1mwandb\u001b[0m: Run `wandb offline` to turn off syncing.\n",
            "\n",
            "Random seed 0\n",
            "{50257: '<|startofinfill|>', 50258: '<|endofinfill|>', 50259: '<|infill_document|>', 50260: '<|infill_paragraph|>', 50261: '<|infill_sentence|>', 50262: '<|infill_ngram|>', 50263: '<|infill_word|>'}\n",
            "Loading training data\n",
            "100%|███████████████████████████████████| 153385/153385 [31:18<00:00, 81.67it/s]\n",
            "tcmalloc: large alloc 1238638592 bytes == 0x5560010c6000 @  0x7f460311e1e7 0x7f4600471631 0x7f46004d5ed8 0x7f46004d5ff3 0x7f46005740c8 0x7f4600574924 0x7f4600574a72 0x555f6093c2f8 0x7f46004c175d 0x555f60939fd7 0x555f60939de0 0x555f609adac2 0x555f609a8b0e 0x555f6093b77a 0x555f609aa86a 0x555f6093b69a 0x555f609a9a45 0x555f609a8e0d 0x555f6093b77a 0x555f609a9a45 0x555f609a8b0e 0x555f609a8813 0x555f60a72592 0x555f60a7290d 0x555f60a727b6 0x555f60a4a103 0x555f60a49dac 0x7f4601f08bf7 0x555f60a49c8a\n",
            "{<TargetType.PAD: 0>: 97378070, <TargetType.CONTEXT: 1>: 449254920, <TargetType.CONTEXT_SPECIAL: 2>: 12190445, <TargetType.CONTEXT_INFILL_SEP: 3>: 1758061, <TargetType.INFILL: 4>: 52120665, <TargetType.INFILL_SPECIAL: 5>: 6615855}\n",
            "tcmalloc: large alloc 4954546176 bytes == 0x55606fcaa000 @  0x7f460311e1e7 0x7f4600471631 0x7f46004d8680 0x7f46005661a7 0x555f6093a050 0x555f60a2b99d 0x555f609adfe9 0x555f609a8e0d 0x555f6093b77a 0x555f609a9a45 0x555f609a8b0e 0x555f609a8813 0x555f60a72592 0x555f60a7290d 0x555f60a727b6 0x555f60a4a103 0x555f60a49dac 0x7f4601f08bf7 0x555f60a49c8a\n",
            "Mask rate (tokens): 0.1040\n",
            "153385 documents, 2419211 examples\n",
            "(2419211, 256) uint16 (2419211, 256) uint8\n",
            "Loading eval data\n",
            "100%|█████████████████████████████████████| 41568/41568 [09:29<00:00, 73.01it/s]\n",
            "{<TargetType.PAD: 0>: 17568065, <TargetType.CONTEXT: 1>: 130434779, <TargetType.CONTEXT_SPECIAL: 2>: 3512656, <TargetType.CONTEXT_INFILL_SEP: 3>: 431857, <TargetType.INFILL: 4>: 14158992, <TargetType.INFILL_SPECIAL: 5>: 1645075}\n",
            "Mask rate (tokens): 0.0979\n",
            "41568 documents, 655279 examples\n",
            "(655279, 256) uint16 (655279, 256) uint8\n",
            "Creating datasets\n",
            "Initializing model...\n",
            "from pretrained checkpoint\n",
            "Downloading: 100%|██████████████████████████████| 665/665 [00:00<00:00, 323kB/s]\n",
            "Downloading: 100%|███████████████████████████| 548M/548M [00:18<00:00, 30.0MB/s]\n",
            "Training\n",
            "Traceback (most recent call last):\n",
            "  File \"train_ilm.py\", line 738, in <module>\n",
            "    train(args)\n",
            "  File \"train_ilm.py\", line 541, in train\n",
            "    eval_labels_relevant_count = (eval_labels_relevant != -1).long().sum().item()\n",
            "KeyboardInterrupt\n",
            "\n",
            "\u001b[34m\u001b[1mwandb\u001b[0m: Waiting for W&B process to finish, PID 443\n",
            "\u001b[34m\u001b[1mwandb\u001b[0m: Program failed with code 255.  Press ctrl-c to abort syncing.\n",
            "\u001b[34m\u001b[1mwandb\u001b[0m:                                                                                \n",
            "\u001b[34m\u001b[1mwandb\u001b[0m: Find user logs for this run at: /content/ilm/wandb/run-20210422_042113-1n8ncho5/logs/debug.log\n",
            "\u001b[34m\u001b[1mwandb\u001b[0m: Find internal logs for this run at: /content/ilm/wandb/run-20210422_042113-1n8ncho5/logs/debug-internal.log\n",
            "\u001b[34m\u001b[1mwandb\u001b[0m: Synced 5 W&B file(s), 0 media file(s), 0 artifact file(s) and 0 other file(s)\n",
            "\u001b[34m\u001b[1mwandb\u001b[0m: \n",
            "\u001b[34m\u001b[1mwandb\u001b[0m: Synced \u001b[33mexperiment_arxiv_cs_abstracts\u001b[0m: \u001b[34mhttps://wandb.ai/weicongdong/abstract_ilm/runs/1n8ncho5\u001b[0m\n",
            "./train_abstract_ilm.sh: line 11: --train_examples_tag: command not found\n"
          ],
          "name": "stdout"
        }
      ]
    }
  ]
}